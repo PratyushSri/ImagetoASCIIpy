{
 "cells": [
  {
   "cell_type": "code",
   "execution_count": 1,
   "id": "85dcd55f",
   "metadata": {},
   "outputs": [],
   "source": [
    "import numpy as np\n",
    "import cv2\n",
    "import tkinter as tk\n",
    "from tkinter import Canvas\n",
    "from PIL import Image,ImageDraw\n",
    "import PIL.ImageFont\n",
    "import os\n",
    "\n",
    "\n",
    "#requirements pip install numpy, pip install opencv, pip install tkinter, pip install Pillow"
   ]
  },
  {
   "cell_type": "code",
   "execution_count": 2,
   "id": "10b2d268",
   "metadata": {},
   "outputs": [
    {
     "name": "stdout",
     "output_type": "stream",
     "text": [
      " Enter Valid Image name: Image/car.jpg\n",
      "File Found\n"
     ]
    }
   ],
   "source": [
    "usetkinter = True\n",
    "Debug= True\n",
    "while True:\n",
    "    Filename = input(\" Enter Valid Image name: \")\n",
    "    if os.path.isfile(Filename):\n",
    "        print(\"File Found\")\n",
    "        break\n",
    "    else:\n",
    "        print(\"File not found\")\n",
    "        "
   ]
  },
  {
   "cell_type": "code",
   "execution_count": 3,
   "id": "aeb16fae",
   "metadata": {},
   "outputs": [],
   "source": [
    "#image = Image.open(Filename)\n",
    "#image"
   ]
  },
  {
   "cell_type": "code",
   "execution_count": 4,
   "id": "b089190f",
   "metadata": {},
   "outputs": [],
   "source": [
    "# extended ascii characters were not working so\n",
    "#txt = \"  .,:;!|#$@░▒▓█\"\n",
    "\n",
    "# created a string with characters that might fit as ascii charcter art\n",
    "txt = \"  _.,*:!|abc#8$@\"\n",
    "\n",
    "txt = txt[::-1]\n",
    "#didn't want to write backwards so used slicing instead XD"
   ]
  },
  {
   "cell_type": "code",
   "execution_count": 5,
   "id": "7d27ecb7",
   "metadata": {},
   "outputs": [],
   "source": [
    "#only for jupyter notebook\n",
    "#newm=image.convert('L')\n",
    "#newm"
   ]
  },
  {
   "cell_type": "code",
   "execution_count": 6,
   "id": "2a8a887e",
   "metadata": {},
   "outputs": [
    {
     "name": "stdout",
     "output_type": "stream",
     "text": [
      "Pixels value of image :  [[253 253 253 ... 255 255 255]\n",
      " [253 253 253 ... 255 255 255]\n",
      " [253 253 253 ... 255 255 255]\n",
      " ...\n",
      " [253 253 253 ... 255 255 255]\n",
      " [253 253 253 ... 255 255 255]\n",
      " [253 253 253 ... 255 255 255]]\n",
      "Dimension of Image:  (270, 387)\n",
      "Ascii text to be used:  @$8#cba|!:*,._  \n",
      "Total number of ascii characters:  16\n",
      "Total number of ascii text pasted on Image:  104490\n",
      "Length of final String:  104759\n"
     ]
    }
   ],
   "source": [
    "\n",
    "#it will return a 2 dimensional array with values ranging 0-255\n",
    "# Stored in pixels each value represent color as 0 -> black and 255-> white others in middle of gray\n",
    "pixels = cv2.imread(Filename,cv2.IMREAD_GRAYSCALE)\n",
    "\n",
    "\n",
    "# using pixels.shape we get row and col lengths, which we can then use to identiy the resolution of image\n",
    "new_width = pixels.shape[1]\n",
    "new_height = pixels.shape[0]\n",
    "\n",
    "# creating a list with list comprehension from asciitext used above\n",
    "charlist = [x for x in txt]\n",
    "\n",
    "\"\"\" \n",
    "#using join function we create a huge string of lenght image's Row x Col\n",
    "# for every value in the 2d array it can range 0-255 we have 16 characters and now we have to seprate 255/15 = 17 \n",
    "# to distribute any values to its int as string index. \n",
    "# chose 17 as i had 15 characters since a value can be 255 dividing it by 17 we get 15 -> \n",
    "# charlist[15] that would raise an out of index error so I added an extra space character to make our ascii string lenght of 16\n",
    "\"\"\"\n",
    "characters = \"\".join([charlist[pix//17] for row in pixels for pix in row])\n",
    "\n",
    "\n",
    "# Here, we use characters[i:i+new_width] to identify slicing from i to the number of col as in width of image\n",
    "# starting with 0 to total length with increament of total column value, replicating the matrix of pixels.shape but with \\n\n",
    "# this will create the final image.\n",
    "ascii_image = \"\\n\".join(characters[i:(i+new_width)] for i in range(0,len(characters),new_width))\n",
    "#ascii_image = map(0,pixels,0,len(charlist)-1)\n",
    "\n",
    "if Debug:\n",
    "    print(\"Pixels value of image : \",pixels)\n",
    "    print(\"Dimension of Image: \",pixels.shape)\n",
    "    print(\"Ascii text to be used: \",txt)\n",
    "    print(\"Total number of ascii characters: \",len(charlist))\n",
    "    print(\"Total number of ascii text pasted on Image: \",len(characters))\n",
    "    print(\"Length of final String: \",len(ascii_image))\n",
    "\n",
    "\n",
    "    # creating a text file to display the Art.\n",
    "with open(\"Imageas_ASCII.txt\",\"w\") as f:\n",
    "    f.write(ascii_image)"
   ]
  },
  {
   "cell_type": "code",
   "execution_count": 7,
   "id": "92dcacad",
   "metadata": {},
   "outputs": [],
   "source": [
    "if usetkinter:\n",
    "    window  = tk.Tk()\n",
    "\n",
    "    window.title(\"TESTING TKINTER\")\n",
    "    w = Canvas(window,width = new_width,height=new_height*2,bg='white')\n",
    "    w.create_text(0,0,text=ascii_image,anchor=\"nw\",fill=\"red\",font = ('roboto 1 bold'))\n",
    "\n",
    "    w.pack()\n",
    "\n",
    "\n",
    "    window.mainloop()\n",
    "\n",
    "\n"
   ]
  },
  {
   "cell_type": "code",
   "execution_count": null,
   "id": "403bc35a",
   "metadata": {},
   "outputs": [],
   "source": []
  },
  {
   "cell_type": "code",
   "execution_count": null,
   "id": "7866a62b",
   "metadata": {},
   "outputs": [],
   "source": []
  },
  {
   "cell_type": "code",
   "execution_count": null,
   "id": "442859d0",
   "metadata": {},
   "outputs": [],
   "source": []
  }
 ],
 "metadata": {
  "kernelspec": {
   "display_name": "Python 3",
   "language": "python",
   "name": "python3"
  },
  "language_info": {
   "codemirror_mode": {
    "name": "ipython",
    "version": 3
   },
   "file_extension": ".py",
   "mimetype": "text/x-python",
   "name": "python",
   "nbconvert_exporter": "python",
   "pygments_lexer": "ipython3",
   "version": "3.8.8"
  }
 },
 "nbformat": 4,
 "nbformat_minor": 5
}
